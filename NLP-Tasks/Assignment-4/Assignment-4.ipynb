{
 "cells": [
  {
   "cell_type": "code",
   "execution_count": 5,
   "metadata": {},
   "outputs": [
    {
     "name": "stdout",
     "output_type": "stream",
     "text": [
      "0.768\n"
     ]
    }
   ],
   "source": [
    "from nltk.corpus import names\n",
    "labeled_names=([(name,'male') for name in names.words('male.txt')]+[(name,'female') for name in names.words('female.txt')])\n",
    "\n",
    "import random\n",
    "random.shuffle(labeled_names)\n",
    "def gender_features(word):\n",
    "    return {'last_letter':word[-1]}\n",
    "featuresets = [(gender_features(n),gender) for (n,gender) in labeled_names]\n",
    "\n",
    "train_set, test_set = featuresets[500:],featuresets[:500]\n",
    "\n",
    "import nltk\n",
    "classifier = nltk.NaiveBayesClassifier.train(train_set)\n",
    "classifier.classify(gender_features('David'))\n",
    "classifier.classify(gender_features('Michelle'))\n",
    "print(nltk.classify.accuracy(classifier,test_set))\n",
    "\n",
    "\n",
    "\n",
    "x = gender_features('David')\n"
   ]
  },
  {
   "cell_type": "code",
   "execution_count": null,
   "metadata": {},
   "outputs": [],
   "source": []
  },
  {
   "cell_type": "code",
   "execution_count": null,
   "metadata": {},
   "outputs": [],
   "source": []
  },
  {
   "cell_type": "code",
   "execution_count": null,
   "metadata": {},
   "outputs": [],
   "source": []
  }
 ],
 "metadata": {
  "kernelspec": {
   "display_name": "Python 3",
   "language": "python",
   "name": "python3"
  },
  "language_info": {
   "codemirror_mode": {
    "name": "ipython",
    "version": 3
   },
   "file_extension": ".py",
   "mimetype": "text/x-python",
   "name": "python",
   "nbconvert_exporter": "python",
   "pygments_lexer": "ipython3",
   "version": "3.7.0"
  }
 },
 "nbformat": 4,
 "nbformat_minor": 2
}
