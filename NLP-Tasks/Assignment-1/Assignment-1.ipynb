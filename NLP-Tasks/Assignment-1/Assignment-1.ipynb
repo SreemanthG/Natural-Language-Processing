{
 "cells": [
  {
   "cell_type": "code",
   "execution_count": 1,
   "metadata": {},
   "outputs": [
    {
     "data": {
      "text/plain": [
       "['i',\n",
       " 'me',\n",
       " 'my',\n",
       " 'myself',\n",
       " 'we',\n",
       " 'our',\n",
       " 'ours',\n",
       " 'ourselves',\n",
       " 'you',\n",
       " \"you're\",\n",
       " \"you've\",\n",
       " \"you'll\",\n",
       " \"you'd\",\n",
       " 'your',\n",
       " 'yours',\n",
       " 'yourself',\n",
       " 'yourselves',\n",
       " 'he',\n",
       " 'him',\n",
       " 'his',\n",
       " 'himself',\n",
       " 'she',\n",
       " \"she's\",\n",
       " 'her',\n",
       " 'hers',\n",
       " 'herself',\n",
       " 'it',\n",
       " \"it's\",\n",
       " 'its',\n",
       " 'itself',\n",
       " 'they',\n",
       " 'them',\n",
       " 'their',\n",
       " 'theirs',\n",
       " 'themselves',\n",
       " 'what',\n",
       " 'which',\n",
       " 'who',\n",
       " 'whom',\n",
       " 'this',\n",
       " 'that',\n",
       " \"that'll\",\n",
       " 'these',\n",
       " 'those',\n",
       " 'am',\n",
       " 'is',\n",
       " 'are',\n",
       " 'was',\n",
       " 'were',\n",
       " 'be',\n",
       " 'been',\n",
       " 'being',\n",
       " 'have',\n",
       " 'has',\n",
       " 'had',\n",
       " 'having',\n",
       " 'do',\n",
       " 'does',\n",
       " 'did',\n",
       " 'doing',\n",
       " 'a',\n",
       " 'an',\n",
       " 'the',\n",
       " 'and',\n",
       " 'but',\n",
       " 'if',\n",
       " 'or',\n",
       " 'because',\n",
       " 'as',\n",
       " 'until',\n",
       " 'while',\n",
       " 'of',\n",
       " 'at',\n",
       " 'by',\n",
       " 'for',\n",
       " 'with',\n",
       " 'about',\n",
       " 'against',\n",
       " 'between',\n",
       " 'into',\n",
       " 'through',\n",
       " 'during',\n",
       " 'before',\n",
       " 'after',\n",
       " 'above',\n",
       " 'below',\n",
       " 'to',\n",
       " 'from',\n",
       " 'up',\n",
       " 'down',\n",
       " 'in',\n",
       " 'out',\n",
       " 'on',\n",
       " 'off',\n",
       " 'over',\n",
       " 'under',\n",
       " 'again',\n",
       " 'further',\n",
       " 'then',\n",
       " 'once',\n",
       " 'here',\n",
       " 'there',\n",
       " 'when',\n",
       " 'where',\n",
       " 'why',\n",
       " 'how',\n",
       " 'all',\n",
       " 'any',\n",
       " 'both',\n",
       " 'each',\n",
       " 'few',\n",
       " 'more',\n",
       " 'most',\n",
       " 'other',\n",
       " 'some',\n",
       " 'such',\n",
       " 'no',\n",
       " 'nor',\n",
       " 'not',\n",
       " 'only',\n",
       " 'own',\n",
       " 'same',\n",
       " 'so',\n",
       " 'than',\n",
       " 'too',\n",
       " 'very',\n",
       " 's',\n",
       " 't',\n",
       " 'can',\n",
       " 'will',\n",
       " 'just',\n",
       " 'don',\n",
       " \"don't\",\n",
       " 'should',\n",
       " \"should've\",\n",
       " 'now',\n",
       " 'd',\n",
       " 'll',\n",
       " 'm',\n",
       " 'o',\n",
       " 're',\n",
       " 've',\n",
       " 'y',\n",
       " 'ain',\n",
       " 'aren',\n",
       " \"aren't\",\n",
       " 'couldn',\n",
       " \"couldn't\",\n",
       " 'didn',\n",
       " \"didn't\",\n",
       " 'doesn',\n",
       " \"doesn't\",\n",
       " 'hadn',\n",
       " \"hadn't\",\n",
       " 'hasn',\n",
       " \"hasn't\",\n",
       " 'haven',\n",
       " \"haven't\",\n",
       " 'isn',\n",
       " \"isn't\",\n",
       " 'ma',\n",
       " 'mightn',\n",
       " \"mightn't\",\n",
       " 'mustn',\n",
       " \"mustn't\",\n",
       " 'needn',\n",
       " \"needn't\",\n",
       " 'shan',\n",
       " \"shan't\",\n",
       " 'shouldn',\n",
       " \"shouldn't\",\n",
       " 'wasn',\n",
       " \"wasn't\",\n",
       " 'weren',\n",
       " \"weren't\",\n",
       " 'won',\n",
       " \"won't\",\n",
       " 'wouldn',\n",
       " \"wouldn't\"]"
      ]
     },
     "execution_count": 1,
     "metadata": {},
     "output_type": "execute_result"
    }
   ],
   "source": [
    "import nltk\n",
    "from nltk.corpus import stopwords\n",
    "stopwords.words('english')"
   ]
  },
  {
   "cell_type": "code",
   "execution_count": 2,
   "metadata": {},
   "outputs": [
    {
     "data": {
      "text/plain": [
       "133737"
      ]
     },
     "execution_count": 2,
     "metadata": {},
     "output_type": "execute_result"
    }
   ],
   "source": [
    "entries=nltk.corpus.cmudict.entries()\n",
    "len(entries)"
   ]
  },
  {
   "cell_type": "code",
   "execution_count": 3,
   "metadata": {},
   "outputs": [
    {
     "name": "stdout",
     "output_type": "stream",
     "text": [
      "(\"addidas's\", ['AH0', 'D', 'IY1', 'D', 'AH0', 'S', 'IH0', 'Z'])\n",
      "('addie', ['AE1', 'D', 'IY0'])\n",
      "('adding', ['AE1', 'D', 'IH0', 'NG'])\n",
      "('addington', ['AE1', 'D', 'IH0', 'NG', 'T', 'AH0', 'N'])\n",
      "('addis', ['AA1', 'D', 'IH0', 'S'])\n",
      "('addis-ababa', ['AA1', 'D', 'IH0', 'S', 'AH0', 'B', 'AA1', 'B', 'AH0'])\n",
      "('addis-ababa', ['AA1', 'D', 'IY0', 'S', 'AH0', 'B', 'AA1', 'B', 'AH0'])\n",
      "('addison', ['AE1', 'D', 'AH0', 'S', 'AH0', 'N'])\n",
      "('addison', ['AE1', 'D', 'IH0', 'S', 'AH0', 'N'])\n",
      "(\"addison's\", ['AE1', 'D', 'IH0', 'S', 'AH0', 'N', 'Z'])\n",
      "('addition', ['AH0', 'D', 'IH1', 'SH', 'AH0', 'N'])\n",
      "('additional', ['AH0', 'D', 'IH1', 'SH', 'AH0', 'N', 'AH0', 'L'])\n",
      "('additional', ['AH0', 'D', 'IH1', 'SH', 'N', 'AH0', 'L'])\n",
      "('additionally', ['AH0', 'D', 'IH1', 'SH', 'AH0', 'N', 'AH0', 'L', 'IY0'])\n",
      "('additionally', ['AH0', 'D', 'IH1', 'SH', 'N', 'AH0', 'L', 'IY0'])\n",
      "('additions', ['AH0', 'D', 'IH1', 'SH', 'AH0', 'N', 'Z'])\n",
      "('additive', ['AE1', 'D', 'AH0', 'T', 'IH0', 'V'])\n",
      "('additive', ['AE1', 'D', 'IH0', 'T', 'IH0', 'V'])\n",
      "('additives', ['AE1', 'D', 'AH0', 'T', 'IH0', 'V', 'Z'])\n",
      "('additives', ['AE1', 'D', 'IH0', 'T', 'IH0', 'V', 'Z'])\n",
      "('addle', ['AE1', 'D', 'AH0', 'L'])\n",
      "('addled', ['AE1', 'D', 'AH0', 'L', 'D'])\n",
      "('addleman', ['AE1', 'D', 'AH0', 'L', 'M', 'AH0', 'N'])\n",
      "('address', ['AE1', 'D', 'R', 'EH2', 'S'])\n",
      "('address', ['AH0', 'D', 'R', 'EH1', 'S'])\n"
     ]
    }
   ],
   "source": [
    "for entry in entries[1000:1025]:\n",
    "    print(entry)"
   ]
  },
  {
   "cell_type": "code",
   "execution_count": 4,
   "metadata": {},
   "outputs": [
    {
     "data": {
      "text/plain": [
       "[Synset('car.n.01')]"
      ]
     },
     "execution_count": 4,
     "metadata": {},
     "output_type": "execute_result"
    }
   ],
   "source": [
    "from nltk.corpus import wordnet as wn\n",
    "wn.synsets('motorcar')"
   ]
  },
  {
   "cell_type": "code",
   "execution_count": 5,
   "metadata": {},
   "outputs": [
    {
     "data": {
      "text/plain": [
       "['car', 'auto', 'automobile', 'machine', 'motorcar']"
      ]
     },
     "execution_count": 5,
     "metadata": {},
     "output_type": "execute_result"
    }
   ],
   "source": [
    "wn.synset('car.n.01').lemma_names()"
   ]
  },
  {
   "cell_type": "code",
   "execution_count": 6,
   "metadata": {},
   "outputs": [
    {
     "name": "stdout",
     "output_type": "stream",
     "text": [
      "[('The', 'DT'), ('Fall', 'NN'), ('of', 'IN'), ('Kampala', 'NNP'), ('was', 'VBD'), ('a', 'DT'), ('battle', 'NN'), ('during', 'IN'), ('the', 'DT'), ('Uganda–Tanzania', 'NNP'), ('War', 'NNP'), ('in', 'IN'), ('April', 'NNP'), ('1979', 'CD'), (',', ','), ('in', 'IN'), ('which', 'WDT'), ('the', 'DT'), ('combined', 'JJ'), ('forces', 'NNS'), ('of', 'IN'), ('Tanzania', 'NNP'), ('and', 'CC'), ('the', 'DT'), ('Uganda', 'NNP'), ('National', 'NNP'), ('Liberation', 'NNP'), ('Front', 'NNP'), ('(', '('), ('UNLF', 'NNP'), (')', ')'), ('attacked', 'VBD'), ('and', 'CC'), ('captured', 'VBD'), ('the', 'DT'), ('Ugandan', 'NNP'), ('capital', 'NN'), (',', ','), ('Kampala', 'NNP'), ('.', '.')]\n",
      "[('Tanzanian', 'JJ'), ('forces', 'NNS'), ('were', 'VBD'), ('repulsing', 'VBG'), ('an', 'DT'), ('invasion', 'NN'), ('launched', 'VBN'), ('by', 'IN'), ('Ugandan', 'NNP'), ('President', 'NNP'), ('Idi', 'NNP'), ('Amin', 'NNP'), ('(', '('), ('pictured', 'VBN'), (')', ')'), ('.', '.')]\n",
      "[('After', 'IN'), ('routing', 'VBG'), ('the', 'DT'), ('Ugandans', 'NNPS'), ('and', 'CC'), ('their', 'PRP$'), ('Libyan', 'JJ'), ('allies', 'NNS'), ('in', 'IN'), ('Entebbe', 'NNP'), (',', ','), ('the', 'DT'), ('Tanzanians', 'NNPS'), ('moved', 'VBD'), ('on', 'IN'), ('Kampala', 'NNP'), ('.', '.')]\n",
      "[('They', 'PRP'), ('entered', 'VBD'), ('the', 'DT'), ('city', 'NN'), ('with', 'IN'), ('UNLF', 'NNP'), ('forces', 'NNS'), ('on', 'IN'), ('10', 'CD'), ('April', 'NNP'), (',', ','), ('facing', 'VBG'), ('minimal', 'JJ'), ('resistance', 'NN'), ('but', 'CC'), ('hampered', 'VBN'), ('by', 'IN'), ('their', 'PRP$'), ('lack', 'NN'), ('of', 'IN'), ('maps', 'NNS'), ('.', '.')]\n",
      "[('The', 'DT'), ('fall', 'NN'), ('of', 'IN'), ('the', 'DT'), ('city', 'NN'), ('was', 'VBD'), ('announced', 'VBN'), ('the', 'DT'), ('next', 'JJ'), ('day', 'NN'), ('.', '.')]\n",
      "[('The', 'DT'), ('Tanzanians', 'NNPS'), ('cleared', 'VBD'), ('out', 'RP'), ('the', 'DT'), ('remaining', 'VBG'), ('pockets', 'NNS'), ('of', 'IN'), ('opposition', 'NN'), (',', ','), ('while', 'IN'), ('jubilant', 'JJ'), ('civilians', 'NNS'), ('celebrated', 'VBN'), ('through', 'IN'), ('indiscriminate', 'NN'), (',', ','), ('destructive', 'JJ'), ('looting', 'NN'), ('.', '.')]\n",
      "[('Amin', 'NNP'), ('was', 'VBD'), ('deposed', 'VBN'), (',', ','), ('his', 'PRP$'), ('forces', 'NNS'), ('were', 'VBD'), ('scattered', 'VBN'), (',', ','), ('and', 'CC'), ('a', 'DT'), ('new', 'JJ'), ('government', 'NN'), ('was', 'VBD'), ('installed', 'VBN'), ('.', '.')]\n",
      "[('The', 'DT'), ('battle', 'NN'), ('marked', 'VBD'), ('the', 'DT'), ('first', 'JJ'), ('time', 'NN'), ('in', 'IN'), ('the', 'DT'), ('modern', 'JJ'), ('history', 'NN'), ('of', 'IN'), ('the', 'DT'), ('continent', 'NN'), ('that', 'IN'), ('an', 'DT'), ('African', 'JJ'), ('state', 'NN'), ('seized', 'VBD'), ('the', 'DT'), ('capital', 'NN'), ('of', 'IN'), ('another', 'DT'), ('African', 'JJ'), ('country', 'NN'), ('and', 'CC'), ('deposed', 'VBD'), ('its', 'PRP$'), ('government', 'NN'), ('.', '.')]\n"
     ]
    }
   ],
   "source": [
    "texts=[\"\"\"The Fall of Kampala was a battle during the Uganda–Tanzania War in April 1979, in which the combined \n",
    "forces of Tanzania and the Uganda National Liberation Front (UNLF) attacked and captured the Ugandan capital, Kampala. \n",
    "Tanzanian forces were repulsing an invasion launched by Ugandan President Idi Amin (pictured). \n",
    "After routing the Ugandans and their Libyan allies in Entebbe, the Tanzanians moved on Kampala. \n",
    "They entered the city with UNLF forces on 10 April, facing minimal resistance but hampered by their lack of maps. \n",
    "The fall of the city was announced the next day. The Tanzanians cleared out the remaining pockets of opposition, \n",
    "while jubilant civilians celebrated through indiscriminate, destructive looting. Amin was deposed, his forces were scattered, \n",
    "and a new government was installed. The battle marked the first time in the modern history of the continent \n",
    "that an African state seized the capital of \n",
    "another African country and deposed its government.\"\"\"]\n",
    "\n",
    "for text in texts:\n",
    "    sentences = nltk.sent_tokenize(text)\n",
    "    for sentence in sentences:\n",
    "        word = nltk.word_tokenize(sentence)\n",
    "        taggedwords = nltk.pos_tag(word)\n",
    "        print(taggedwords)"
   ]
  },
  {
   "cell_type": "code",
   "execution_count": 7,
   "metadata": {},
   "outputs": [
    {
     "data": {
      "text/plain": [
       "['The', 'Party', 'was', 'soo', 'funnnnn', 'xD', '#superfun']"
      ]
     },
     "execution_count": 7,
     "metadata": {},
     "output_type": "execute_result"
    }
   ],
   "source": [
    "from nltk.tokenize import TweetTokenizer\n",
    "text='The Party was soo funnnnn xD #superfun'\n",
    "twtfn= TweetTokenizer()\n",
    "twtfn.tokenize(text)"
   ]
  },
  {
   "cell_type": "code",
   "execution_count": null,
   "metadata": {},
   "outputs": [],
   "source": []
  }
 ],
 "metadata": {
  "kernelspec": {
   "display_name": "Python 3",
   "language": "python",
   "name": "python3"
  },
  "language_info": {
   "codemirror_mode": {
    "name": "ipython",
    "version": 3
   },
   "file_extension": ".py",
   "mimetype": "text/x-python",
   "name": "python",
   "nbconvert_exporter": "python",
   "pygments_lexer": "ipython3",
   "version": "3.7.0"
  }
 },
 "nbformat": 4,
 "nbformat_minor": 2
}
